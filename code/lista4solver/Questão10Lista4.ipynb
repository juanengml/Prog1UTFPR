{
 "cells": [
  {
   "cell_type": "code",
   "execution_count": 1,
   "metadata": {},
   "outputs": [
    {
     "data": {
      "text/plain": [
       "'\\n10)\\nConstrua um programa que seja capaz de concluir qual dentre os animais seguintes \\nfoi escolhido atrav\\xc3\\xa9s de perguntas e respostas. Animais poss\\xc3\\xadveis: le\\xc3\\xa3o, cavalo, homem, \\nmacaco, baleia, avestruz, ping\\xc3\\xbcim, pato, \\xc3\\xa1guia, tartarug\\na, crocodilo e cobra\\n\\nExemplo:\\n\\xc3\\x89 mam\\xc3\\xadfero: Sim\\n\\xc3\\x89 quadr\\xc3\\xbapede: Sim\\n\\xc3\\x89 carn\\xc3\\xadvoro: N\\xc3\\xa3o\\n\\xc3\\x89 herb\\xc3\\xadvoro: Sim\\nEnt\\xc3\\xa3o o animal escolhido foi o cavalo\\n'"
      ]
     },
     "execution_count": 1,
     "metadata": {},
     "output_type": "execute_result"
    }
   ],
   "source": [
    "\n",
    "# -*- coding: utf-8 -*-\n",
    "\"\"\"\n",
    "10)\n",
    "Construa um programa que seja capaz de concluir qual dentre os animais seguintes \n",
    "foi escolhido através de perguntas e respostas. Animais possíveis: leão, cavalo, homem, \n",
    "macaco, baleia, avestruz, pingüim, pato, águia, tartarug\n",
    "a, crocodilo e cobra\n",
    "\n",
    "Exemplo:\n",
    "É mamífero: Sim\n",
    "É quadrúpede: Sim\n",
    "É carnívoro: Não\n",
    "É herbívoro: Sim\n",
    "Então o animal escolhido foi o cavalo\n",
    "\"\"\"\n"
   ]
  },
  {
   "cell_type": "code",
   "execution_count": null,
   "metadata": {},
   "outputs": [],
   "source": [
    "def quest(lista):\n",
    " quest = str(raw_input(lista[0]+\"? \"))\n",
    " if quest==\"y\":\n",
    "  quest2 = str(raw_input(lista[1]+\"? \"))\n",
    "  if quest2==\"y\":\n",
    "   quest3 = str(raw_input(lista[2]+\"? \"))\n",
    "   if quest3 == \"y\":\n",
    "         print lista[3]\n",
    "  else:\n",
    "   quest3 = str(raw_input(lista[2]+\"? \"))\n",
    "   if quest3 == \"y\":\n",
    "        print \"Cavalo\"\n",
    "    \n",
    "    "
   ]
  },
  {
   "cell_type": "code",
   "execution_count": 2,
   "metadata": {},
   "outputs": [],
   "source": [
    "m = open('animais.csv').read().split(\"\\n\")"
   ]
  },
  {
   "cell_type": "code",
   "execution_count": 4,
   "metadata": {},
   "outputs": [
    {
     "name": "stdout",
     "output_type": "stream",
     "text": [
      "mamifaro,quadrupede    ,carnivoro,lẽao\n",
      "mamifaro,quadrupede    ,herbivoro,cavalo\n",
      "mamifaro,bipede        ,onivoro  ,humano\n",
      "mamifaro,bipede        ,frutifuro,macaco\n",
      "mamifaro,voadores      ,null     ,morcego\n",
      "mamifaro,aquatico      ,null     ,baleia\n",
      "aves    ,não-voadores  ,tropical ,avestruz\n",
      "aves    ,não-voadores  ,polar    ,pinguim\n",
      "aves    ,nadadoras     ,null     ,pato\n",
      "aves    ,derapina      ,null     ,aguia\n",
      "repteis ,com casco     ,null     ,tartaruga\n",
      "repteis ,carnivoros    ,null     ,crocodilo\n",
      "repteis ,sem patas     ,null     ,cobra  \n"
     ]
    }
   ],
   "source": [
    "for p in range(len(m)):\n",
    "    print m[p]"
   ]
  },
  {
   "cell_type": "code",
   "execution_count": 28,
   "metadata": {},
   "outputs": [
    {
     "name": "stdout",
     "output_type": "stream",
     "text": [
      " Mamifero ? y\n",
      " quadrupede ? n\n",
      "bipede ?n\n",
      "voador ?n\n",
      "nada ?y\n",
      "Baleia\n"
     ]
    }
   ],
   "source": [
    "quest = str(raw_input(\" Mamifero ? \"))\n",
    "if quest==\"y\":\n",
    " quest2 = str(raw_input(\" quadrupede ? \"))\n",
    " if quest2==\"y\":\n",
    "  quest3 = str(raw_input(\" carnivoro ? \"))\n",
    "  if quest3 == \"y\":\n",
    "        print \"Leão\"\n",
    "  else:\n",
    "   quest3 = str(raw_input(\" herbivoro ? \"))\n",
    "   if quest3 == \"y\":\n",
    "        print \"Cavalo\"\n",
    " else:\n",
    "    quest2 = str(raw_input(\"bipede ?\"))\n",
    "    if quest2 == 'y':\n",
    "        quest3 = str(raw_input(\"onivoro ?\"))\n",
    "        if quest3=='y':\n",
    "            print 'Humano'\n",
    "        else:\n",
    "            quest3 = str(raw_input(\"frutifero ?\"))\n",
    "            if quest3=='y':\n",
    "              print 'macaco'\n",
    "    else:\n",
    "        voa = str(raw_input(\"voador ?\"))\n",
    "        if voa=='y':\n",
    "            print \"Morcego\"\n",
    "        else:\n",
    "            nada = str(raw_input(\"nada ?\"))\n",
    "            if nada == 'y':\n",
    "                print \"Baleia\"\n",
    "                        \n",
    "else:\n",
    "    ave = str(raw_input(\" Ave ? \"))\n",
    "    if ave==\"y\":\n",
    "        voa = str(raw_input(\"voa ?\"))\n",
    "        if voa == \"y\":\n",
    "            nada = str(raw_input(\"nadadora ?\"))\n",
    "            if nada=='y':\n",
    "                print \"Pato\"\n",
    "            else:\n",
    "                rapina = str(raw_input(\"rapina ?\"))\n",
    "                if rapina=='y':\n",
    "                  print \"Aguia\"\n",
    "                \n",
    "        else:\n",
    "            tropical = str(raw_input(\"Tropical ?\"))\n",
    "            if tropical == \"y\":\n",
    "                print 'Avestruz'\n",
    "            else:\n",
    "                polar = str(raw_input(\"polar ?\"))\n",
    "                if polar == \"y\": \n",
    "                 print \"Pinguim\"       \n",
    "    else:\n",
    "        reptil = str(raw_input(\"Reptil ? \"))\n",
    "        if reptil=='y':\n",
    "            casco = str(raw_input(\"casco ? \"))\n",
    "            if casco =='y':\n",
    "                print \"Tartaruga\"\n",
    "            else:\n",
    "                carnivoro = str(raw_input(\"carnivoro ?\"))\n",
    "                if carnivoro =='y':\n",
    "                    print \"Crocodilo\"\n",
    "                else:\n",
    "                    print \"cobra\""
   ]
  },
  {
   "cell_type": "code",
   "execution_count": null,
   "metadata": {},
   "outputs": [],
   "source": [
    "for i in range(len(m)):\n",
    "  classe = m[i].split(\",\")\n",
    "  for j in range(len(classe)):\n",
    "   quest = raw_input(\"É %s: \" %classe[j])\n",
    "   if quest==\"y\":\n",
    "      quest1 = raw_input(\"É %s: \" %classe[j+1])\n",
    "      if \n",
    "\n"
   ]
  }
 ],
 "metadata": {
  "kernelspec": {
   "display_name": "Python 2",
   "language": "python",
   "name": "python2"
  },
  "language_info": {
   "codemirror_mode": {
    "name": "ipython",
    "version": 2
   },
   "file_extension": ".py",
   "mimetype": "text/x-python",
   "name": "python",
   "nbconvert_exporter": "python",
   "pygments_lexer": "ipython2",
   "version": "2.7.15rc1"
  }
 },
 "nbformat": 4,
 "nbformat_minor": 2
}
