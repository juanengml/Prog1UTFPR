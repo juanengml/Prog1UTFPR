{
 "cells": [
  {
   "cell_type": "markdown",
   "metadata": {},
   "source": [
    "# Listas Prog 1 UTFPR TD\n",
    "## Listas Daniel Resolvidas\n",
    "\n"
   ]
  },
  {
   "cell_type": "markdown",
   "metadata": {},
   "source": [
    "\n",
    "### Listas\n",
    "1. http://coenc.td.utfpr.edu.br/~danielc/Ensino/Graduacao/CP41F%20-%20Fundamentos%20de%20Programacao/Lista1.pdf\n",
    "\n",
    "2. http://coenc.td.utfpr.edu.br/~danielc/Ensino/Graduacao/CP41F%20-%20Fundamentos%20de%20Programacao/Lista2.pdf\n",
    "\n",
    "3.  http://coenc.td.utfpr.edu.br/~danielc/Ensino/Graduacao/CP41F%20-%20Fundamentos%20de%20Programacao/Lista3.pdf\n",
    "\n",
    "4.  http://coenc.td.utfpr.edu.br/~danielc/Ensino/Graduacao/CP41F%20-%20Fundamentos%20de%20Programacao/Lista4.pdf"
   ]
  },
  {
   "cell_type": "markdown",
   "metadata": {},
   "source": [
    "### Lista 1 (EXERCÍCIOS)\n"
   ]
  },
  {
   "cell_type": "markdown",
   "metadata": {},
   "source": [
    "1) Converta os seguintes números na base apresentada para a base 10.\n",
    "- a) 11011001 (base 2)\n",
    "- b) 777 (base 8) \n",
    "- c) FEC (base 16)\n",
    "- d) 777 (base 16)\n",
    "- e) 111 (base 8)\n"
   ]
  },
  {
   "cell_type": "code",
   "execution_count": null,
   "metadata": {},
   "outputs": [],
   "source": []
  },
  {
   "cell_type": "markdown",
   "metadata": {},
   "source": [
    "2) Explique como a base 2 e a base 8 são relacionadas.\n"
   ]
  },
  {
   "cell_type": "code",
   "execution_count": null,
   "metadata": {},
   "outputs": [],
   "source": []
  }
 ],
 "metadata": {
  "kernelspec": {
   "display_name": "Python 2",
   "language": "python",
   "name": "python2"
  },
  "language_info": {
   "codemirror_mode": {
    "name": "ipython",
    "version": 2
   },
   "file_extension": ".py",
   "mimetype": "text/x-python",
   "name": "python",
   "nbconvert_exporter": "python",
   "pygments_lexer": "ipython2",
   "version": "2.7.15rc1"
  }
 },
 "nbformat": 4,
 "nbformat_minor": 2
}
