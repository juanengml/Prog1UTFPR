{
 "cells": [
  {
   "cell_type": "markdown",
   "metadata": {},
   "source": [
    "# APS Maratona de Programação \n",
    "\n",
    "<h4>Prova de chá cego é a habilidade de identificar um chá usando apenas os seus sentidos do olfato e do paladar.\n",
    "Como parte do Desafio Ideal dos Consumidores de Chá Puro (ICPC), um programa de TV local é organizado. Durante\n",
    "o show, um bule cheio é preparado e cinco participantes recebem uma xícara de chá cada. Os participantes\n",
    "deve cheirar, saborear e avaliar a amostra para identificar o tipo de chá, que pode ser: (1) chá branco; (2)\n",
    "chá verde; (3) ch preto; ou (4) chá de ervas. No final, as respostas são verificadas para determinar o número\n",
    "de palpites corretos.\n",
    "Dado o tipo de chá real e as respostas fornecidas, determine o número de participantes que receberam\n",
    "a resposta correta.</h4>"
   ]
  },
  {
   "cell_type": "markdown",
   "metadata": {},
   "source": [
    "<h3><b>INPUT<b></h3>"
   ]
  },
  {
   "cell_type": "markdown",
   "metadata": {},
   "source": [
    "A primeira linha contém um inteiro\n",
    "T representando o tipo de chá (1 ≤ T ≤ 4). A segunda linha contém cinco inteiros UMA, B , C , D\n",
    "e E , indicando a resposta dada por cada concorrente (1 ≤ A, B, C, D, E ≤ 4)."
   ]
  },
  {
   "cell_type": "markdown",
   "metadata": {},
   "source": [
    "<h3><b>OUTPUT</b></h3>"
   ]
  },
  {
   "cell_type": "markdown",
   "metadata": {},
   "source": [
    "Saída de uma linha com um inteiro representando o número de competidores que obtiveram a resposta correta"
   ]
  },
  {
   "cell_type": "code",
   "execution_count": null,
   "metadata": {},
   "outputs": [],
   "source": []
  }
 ],
 "metadata": {
  "kernelspec": {
   "display_name": "Python 2",
   "language": "python",
   "name": "python2"
  },
  "language_info": {
   "codemirror_mode": {
    "name": "ipython",
    "version": 2
   },
   "file_extension": ".py",
   "mimetype": "text/x-python",
   "name": "python",
   "nbconvert_exporter": "python",
   "pygments_lexer": "ipython2",
   "version": "2.7.15rc1"
  }
 },
 "nbformat": 4,
 "nbformat_minor": 2
}
