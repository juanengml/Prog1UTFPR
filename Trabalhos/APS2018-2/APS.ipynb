{
 "cells": [
  {
   "cell_type": "markdown",
   "metadata": {},
   "source": [
    "# APS Maratona de Programação \n",
    "\n",
    "\n",
    "\n",
    "<br>\n",
    "Prova de chá cego é a habilidade de identificar um chá usando apenas os seus sentidos do olfato e do paladar.\n",
    "Como parte do Desafio Ideal dos Consumidores de Chá Puro (ICPC), um programa de TV local é organizado. Durante\n",
    "o show, um bule cheio é preparado e <b>cinco participantes recebem uma xícara de chá cada</b>. Os participantes\n",
    "devem cheirar, saborear e avaliar a amostra para identificar o tipo de chá, que pode ser:<b> (1) chá branco; (2)\n",
    "chá verde; (3) chá preto; ou (4) chá de ervas</b>. No final, as respostas são <b>verificadas para determinar o número\n",
    "de palpites corretos.</b>\n",
    "Dado o tipo de chá real e as respostas fornecidas, determine o <b>número de participantes</b> que receberam\n",
    "a resposta correta.\n",
    "\n",
    "| Numero | Tipo do Chá | \n",
    "|--------|-------------|\n",
    "| 1      | Branco      |\n",
    "| 2      | verde       |\n",
    "| 3      | Preto       |\n",
    "| 4      | Ervas       |\n"
   ]
  },
  {
   "cell_type": "markdown",
   "metadata": {},
   "source": [
    "## Equipe\n",
    "| Nome        | Função           | Curso          |\n",
    "|-------------|------------------|----------------|\n",
    "| Juan Manoel | Desenvolvimento  | Eng Computação |\n",
    "| Yang Jin    | Redatora técnica | Eng Computação |"
   ]
  },
  {
   "cell_type": "markdown",
   "metadata": {},
   "source": [
    "<h2><b>INPUT<b></h2>"
   ]
  },
  {
   "cell_type": "markdown",
   "metadata": {},
   "source": [
    "A primeira linha contém um inteiro\n",
    "T representando o tipo de chá (1 ≤ T ≤ 4). A segunda linha contém cinco inteiros UMA, B , C , D\n",
    "e E , indicando a resposta dada por cada concorrente (1 ≤ A, B, C, D, E ≤ 4)."
   ]
  },
  {
   "cell_type": "markdown",
   "metadata": {},
   "source": [
    "<h2><b>OUTPUT</b></h2>"
   ]
  },
  {
   "cell_type": "markdown",
   "metadata": {},
   "source": [
    "Saída de uma linha com um inteiro representando o número de competidores que obtiveram a resposta correta"
   ]
  },
  {
   "cell_type": "markdown",
   "metadata": {},
   "source": [
    "![Char](./img.png)"
   ]
  },
  {
   "cell_type": "markdown",
   "metadata": {},
   "source": [
    "### Entendendo o Exercicio em Python"
   ]
  },
  {
   "cell_type": "code",
   "execution_count": 1,
   "metadata": {},
   "outputs": [],
   "source": [
    "import random"
   ]
  },
  {
   "cell_type": "code",
   "execution_count": 2,
   "metadata": {},
   "outputs": [],
   "source": [
    "def cha_aleatorio():\n",
    "    list_chas = range(1,5)\n",
    "    random.shuffle(list_chas)\n",
    "    return random.choice(list_chas)"
   ]
  },
  {
   "cell_type": "code",
   "execution_count": 3,
   "metadata": {},
   "outputs": [],
   "source": [
    "def participantes():\n",
    "    lista = []\n",
    "    for p in range(1,6):\n",
    "     msg = \"%d Participante escolha: \" %  p\n",
    "     n1 = int(raw_input(msg))\n",
    "     lista.append(n1)\n",
    "    return lista"
   ]
  },
  {
   "cell_type": "code",
   "execution_count": 6,
   "metadata": {},
   "outputs": [],
   "source": [
    "def main():\n",
    " dados = participantes()\n",
    " cha = cha_aleatorio()\n",
    " #print cha\n",
    " resposta_certa = 0\n",
    " for p in range(len(dados)):\n",
    "    if dados[p] == cha:\n",
    "        resposta_certa = resposta_certa +1        \n",
    " print \"*\" * 30      \n",
    " print \"\\nCha: \",cha,\"\\t\\t\" \n",
    " print \"Entradas: %s \" % dados,\"\\t\\t\\n\"\n",
    " print \"*\" * 30\n",
    " print \"Acertos: \", resposta_certa"
   ]
  },
  {
   "cell_type": "code",
   "execution_count": 7,
   "metadata": {},
   "outputs": [
    {
     "name": "stdout",
     "output_type": "stream",
     "text": [
      "1 Participante escolha: 1\n",
      "2 Participante escolha: 3\n",
      "3 Participante escolha: 2\n",
      "4 Participante escolha: 4\n",
      "5 Participante escolha: 1\n",
      "******************************\n",
      "\n",
      "Cha:  1 \t\t\n",
      "Entradas: [1, 3, 2, 4, 1]  \t\t\n",
      "\n",
      "******************************\n",
      "Acertos:  2\n"
     ]
    }
   ],
   "source": [
    "main()"
   ]
  },
  {
   "cell_type": "markdown",
   "metadata": {},
   "source": [
    "## Implementação em C \n",
    "Testes todos feitos no https://repl.it/\n",
    "\n",
    "\n",
    "![repl-it](repl-it.png)"
   ]
  },
  {
   "cell_type": "markdown",
   "metadata": {},
   "source": [
    "Meu-Codigo: https://repl.it/talk/learn/APSProgCha/8807"
   ]
  },
  {
   "cell_type": "raw",
   "metadata": {},
   "source": [
    "#include <stdio.h>\n",
    "#include <stdlib.h>\n",
    "\n",
    "void cha_choice(int cha){\n",
    "    switch(cha){\n",
    "    case 1:\n",
    "      printf(\"Cha Branco escolhido !\\n\");\n",
    "    break;\n",
    "    case 2:\n",
    "      printf(\"Cha Verde escolhido !\\n\");\n",
    "    break;\n",
    "    case 3:\n",
    "      printf(\"Cha Preto escolhido !\\n\");\n",
    "    break;\n",
    "    case 4:\n",
    "      printf(\"Cha de ervas escolhido !\\n\");\n",
    "    break;\n",
    "    }\n",
    "}\n",
    "\n",
    "int * participantes(){ // poteiro para inteiro\n",
    "    static int aux[5];\n",
    "    int i;\n",
    "    for(i = 1; i < 6;  i++){\n",
    "     printf(\"%dº Participante escolha: \",i);\n",
    "     scanf(\"%d\",&aux[i]);\n",
    "    }\n",
    "    return aux;\n",
    "}\n",
    "\n",
    "int quantidade_acertos(int tie_option){\n",
    "   int *n;\n",
    "   // get escolha dos participantes\n",
    "   n = participantes();\n",
    "   int i,aux=0;     \n",
    "   for ( i = 1; i < 6; i++ ) {\n",
    "      if (*(n + i) == tie_option){\n",
    "          aux = aux + 1;\n",
    "      }\n",
    "   }\n",
    "  return aux;\n",
    "}\n",
    "\n",
    "int main(void)\n",
    "{\n",
    "  int *n;\n",
    "  int i;\n",
    "  int cha_opt;\n",
    "  int acertos = 0;\n",
    "\n",
    "  printf(\"Selecione o cha de 1 a 4: \");\n",
    "  scanf(\"%d\",&cha_opt); // escolha do chá\n",
    "  cha_choice(cha_opt); // print tipo de cha \n",
    "  acertos = quantidade_acertos(cha_opt);\n",
    "  printf(\"Quantidade de acertos: %d \\n\",acertos);\n",
    "\n",
    "  \n",
    "  return 0;\n",
    "}\n"
   ]
  },
  {
   "cell_type": "markdown",
   "metadata": {},
   "source": [
    "#### Fontes do Trabalho\n",
    "Kernel c Jupyter - https://github.com/brendan-rius/jupyter-c-kernel\n",
    "\n",
    "Markdown Cheatsheet - https://github.com/adam-p/markdown-here/wiki/Markdown-Cheatsheet\n",
    "\n",
    "static em c - http://mtm.ufsc.br/~azeredo/cursoC/aulas/ca20.html\n",
    "\n",
    "Definição de static - http://www.br-c.org/doku.php?id=static\n",
    "\n",
    "Return array from function in C - https://www.tutorialspoint.com/cprogramming/c_return_arrays_from_function.htm\n"
   ]
  }
 ],
 "metadata": {
  "kernelspec": {
   "display_name": "Python 2",
   "language": "python",
   "name": "python2"
  },
  "language_info": {
   "codemirror_mode": {
    "name": "ipython",
    "version": 2
   },
   "file_extension": ".py",
   "mimetype": "text/x-python",
   "name": "python",
   "nbconvert_exporter": "python",
   "pygments_lexer": "ipython2",
   "version": "2.7.15rc1"
  }
 },
 "nbformat": 4,
 "nbformat_minor": 2
}
